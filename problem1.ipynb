{
 "cells": [
  {
   "cell_type": "markdown",
   "id": "7af00a51",
   "metadata": {},
   "source": [
    "# Task 1\n",
    "<br>\n",
    "\n",
    "## Problem 1"
   ]
  },
  {
   "cell_type": "code",
   "execution_count": 29,
   "id": "a80857bd",
   "metadata": {},
   "outputs": [],
   "source": [
    "from sklearn.model_selection import train_test_split\n",
    "from sklearn.svm import SVC\n",
    "from sklearn.metrics import accuracy_score\n",
    "import pandas as pd\n",
    "import numpy as np"
   ]
  },
  {
   "cell_type": "markdown",
   "id": "d87ac2d0",
   "metadata": {},
   "source": [
    "#### Reading the dataset"
   ]
  },
  {
   "cell_type": "code",
   "execution_count": 30,
   "id": "f2f26fb7",
   "metadata": {},
   "outputs": [],
   "source": [
    "data = pd.read_csv(\"data.txt\", sep=\" \", header=None)\n",
    "data = data.to_numpy()\n",
    "Y = data[:,-1].reshape(len(data),1)\n",
    "X = data[:,:-1]"
   ]
  },
  {
   "cell_type": "markdown",
   "id": "f1cd770e",
   "metadata": {},
   "source": [
    "#### 1. Computing the classification accuracy for the first dataset"
   ]
  },
  {
   "cell_type": "code",
   "execution_count": 31,
   "id": "36366afb",
   "metadata": {},
   "outputs": [
    {
     "name": "stdout",
     "output_type": "stream",
     "text": [
      "[0.771875, 0.753125, 0.7625, 0.734375, 0.784375, 0.7625, 0.746875, 0.75625, 0.74375, 0.74375]\n"
     ]
    }
   ],
   "source": [
    "classification_acc = []\n",
    "for i in range(10):\n",
    "    X_train, X_test, Y_train, Y_test = train_test_split(X, Y, test_size=0.4)\n",
    "    svc = SVC(kernel ='linear', C = 1)\n",
    "    svc.fit(X_train,Y_train)\n",
    "    classification_acc.append(accuracy_score(Y_test,svc.predict(X_test)))\n",
    "\n",
    "print(classification_acc)\n",
    "\n"
   ]
  },
  {
   "cell_type": "markdown",
   "id": "7532c5d0",
   "metadata": {},
   "source": [
    "#### 2. Computing the classification accuracy for the first dataset"
   ]
  },
  {
   "cell_type": "code",
   "execution_count": 32,
   "id": "d6e9ae6c",
   "metadata": {},
   "outputs": [],
   "source": [
    "from sklearn.preprocessing import StandardScaler\n",
    "scaler = StandardScaler()\n",
    "scaler.fit(X)\n",
    "X_scaled = scaler.transform(X)"
   ]
  },
  {
   "cell_type": "code",
   "execution_count": 40,
   "id": "5dc7f486",
   "metadata": {},
   "outputs": [
    {
     "name": "stdout",
     "output_type": "stream",
     "text": [
      "[0.721875, 0.7375, 0.803125, 0.775, 0.75, 0.746875, 0.778125, 0.740625, 0.76875, 0.73125]\n"
     ]
    }
   ],
   "source": [
    "classification_acc_scaled = []\n",
    "for i in range(10):\n",
    "    X_train, X_test, Y_train, Y_test = train_test_split(X_scaled, Y, test_size=0.4)\n",
    "    svc_scaled = SVC(kernel ='linear', C = 1)\n",
    "    svc_scaled.fit(X_train,Y_train)\n",
    "    classification_acc_scaled.append(accuracy_score(Y_test,svc_scaled.predict(X_test)))\n",
    "\n",
    "print(classification_acc_scaled)\n"
   ]
  },
  {
   "cell_type": "markdown",
   "id": "12b2bed8",
   "metadata": {},
   "source": [
    "### A. Report the Difference between the dataset used in (1) and those used in (2).\n",
    " The Second dataset have been scaled by removing the mean and scaling to unit variance by StandardScaler method.\n",
    " \n",
    "The scaled value of a sample x is calculated as:\n",
    "\n",
    "z = (x - u) / s\n",
    "\n",
    "where u is the mean of the training samples, and s is the standard deviation of the training samples\n"
   ]
  },
  {
   "cell_type": "markdown",
   "id": "4d0e8335",
   "metadata": {},
   "source": [
    "### B. Report the averaged accuracy over the ten trails. Note: each time the difference is in the data that is randomly chosen for testing and training.\n"
   ]
  },
  {
   "cell_type": "code",
   "execution_count": 41,
   "id": "68fb17ad",
   "metadata": {},
   "outputs": [
    {
     "name": "stdout",
     "output_type": "stream",
     "text": [
      "The averaged accuracy for dataset 1\n",
      "0.7559375\n"
     ]
    }
   ],
   "source": [
    "print(\"The averaged accuracy for dataset 1\")\n",
    "print(np.average(classification_acc))"
   ]
  },
  {
   "cell_type": "markdown",
   "id": "38b14bfa",
   "metadata": {},
   "source": [
    "### C. Discuss the difference in the averaged accuracy of (1) and (2)."
   ]
  },
  {
   "cell_type": "code",
   "execution_count": 42,
   "id": "60b22eea",
   "metadata": {},
   "outputs": [
    {
     "name": "stdout",
     "output_type": "stream",
     "text": [
      "The averaged accuracy for dataset 2\n",
      "0.7553124999999999\n"
     ]
    }
   ],
   "source": [
    "print(\"The averaged accuracy for dataset 2\")\n",
    "print(np.average(classification_acc_scaled))"
   ]
  },
  {
   "cell_type": "markdown",
   "id": "1d0b028a",
   "metadata": {},
   "source": [
    "#### the averaged accuracy of (1) and (2) are almost the same"
   ]
  },
  {
   "cell_type": "markdown",
   "id": "5f091bfc",
   "metadata": {},
   "source": [
    "### D. Report all the preprocessing steps you did to the data.\n",
    "\n",
    "The data have been read into dataframe using `pandas` package, then I have converted the dataframe into 2d NumPy array, I have separated the features to variable X and the output to variable Y"
   ]
  }
 ],
 "metadata": {
  "kernelspec": {
   "display_name": "Python 3 (ipykernel)",
   "language": "python",
   "name": "python3"
  },
  "language_info": {
   "codemirror_mode": {
    "name": "ipython",
    "version": 3
   },
   "file_extension": ".py",
   "mimetype": "text/x-python",
   "name": "python",
   "nbconvert_exporter": "python",
   "pygments_lexer": "ipython3",
   "version": "3.10.0"
  }
 },
 "nbformat": 4,
 "nbformat_minor": 5
}
